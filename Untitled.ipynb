{
 "cells": [
  {
   "cell_type": "code",
   "execution_count": 39,
   "metadata": {},
   "outputs": [],
   "source": [
    "import numpy as np\n",
    "import pandas as pd\n",
    "import matplotlib.pyplot as plt\n",
    "import matplotlib.mlab as mlab\n",
    "import math"
   ]
  },
  {
   "cell_type": "code",
   "execution_count": 48,
   "metadata": {},
   "outputs": [],
   "source": [
    "#import sys\n",
    "#print(sys.path)"
   ]
  },
  {
   "cell_type": "code",
   "execution_count": 3,
   "metadata": {},
   "outputs": [],
   "source": [
    "FinData = pd.read_excel('C:\\Git\\AppleIBMData\\Stocks_Data.xlsx', sheet_name='FinancialData')"
   ]
  },
  {
   "cell_type": "code",
   "execution_count": 4,
   "metadata": {},
   "outputs": [
    {
     "data": {
      "text/html": [
       "<div>\n",
       "<style scoped>\n",
       "    .dataframe tbody tr th:only-of-type {\n",
       "        vertical-align: middle;\n",
       "    }\n",
       "\n",
       "    .dataframe tbody tr th {\n",
       "        vertical-align: top;\n",
       "    }\n",
       "\n",
       "    .dataframe thead th {\n",
       "        text-align: right;\n",
       "    }\n",
       "</style>\n",
       "<table border=\"1\" class=\"dataframe\">\n",
       "  <thead>\n",
       "    <tr style=\"text-align: right;\">\n",
       "      <th></th>\n",
       "      <th>Date</th>\n",
       "      <th>MSFT</th>\n",
       "      <th>APPL</th>\n",
       "      <th>INTC</th>\n",
       "      <th>IBM</th>\n",
       "      <th>MSFT_lr</th>\n",
       "      <th>APPL_lr</th>\n",
       "      <th>INTC_lr</th>\n",
       "      <th>IBM_lr</th>\n",
       "    </tr>\n",
       "  </thead>\n",
       "  <tbody>\n",
       "    <tr>\n",
       "      <th>0</th>\n",
       "      <td>2007-01-04</td>\n",
       "      <td>29.809999</td>\n",
       "      <td>12.237143</td>\n",
       "      <td>21.170000</td>\n",
       "      <td>98.309998</td>\n",
       "      <td>-0.001676</td>\n",
       "      <td>0.021953</td>\n",
       "      <td>0.039504</td>\n",
       "      <td>0.010635</td>\n",
       "    </tr>\n",
       "    <tr>\n",
       "      <th>1</th>\n",
       "      <td>2007-01-05</td>\n",
       "      <td>29.639999</td>\n",
       "      <td>12.150000</td>\n",
       "      <td>21.100000</td>\n",
       "      <td>97.419998</td>\n",
       "      <td>-0.005719</td>\n",
       "      <td>-0.007147</td>\n",
       "      <td>-0.003312</td>\n",
       "      <td>-0.009094</td>\n",
       "    </tr>\n",
       "    <tr>\n",
       "      <th>2</th>\n",
       "      <td>2007-01-08</td>\n",
       "      <td>29.930000</td>\n",
       "      <td>12.210000</td>\n",
       "      <td>21.010000</td>\n",
       "      <td>98.900002</td>\n",
       "      <td>0.009737</td>\n",
       "      <td>0.004926</td>\n",
       "      <td>-0.004275</td>\n",
       "      <td>0.015078</td>\n",
       "    </tr>\n",
       "    <tr>\n",
       "      <th>3</th>\n",
       "      <td>2007-01-09</td>\n",
       "      <td>29.959999</td>\n",
       "      <td>13.224286</td>\n",
       "      <td>21.030001</td>\n",
       "      <td>100.070000</td>\n",
       "      <td>0.001002</td>\n",
       "      <td>0.079800</td>\n",
       "      <td>0.000952</td>\n",
       "      <td>0.011761</td>\n",
       "    </tr>\n",
       "    <tr>\n",
       "      <th>4</th>\n",
       "      <td>2007-01-10</td>\n",
       "      <td>29.660000</td>\n",
       "      <td>13.857142</td>\n",
       "      <td>21.520000</td>\n",
       "      <td>98.889999</td>\n",
       "      <td>-0.010064</td>\n",
       "      <td>0.046746</td>\n",
       "      <td>0.023033</td>\n",
       "      <td>-0.011862</td>\n",
       "    </tr>\n",
       "  </tbody>\n",
       "</table>\n",
       "</div>"
      ],
      "text/plain": [
       "        Date       MSFT       APPL       INTC         IBM   MSFT_lr   APPL_lr  \\\n",
       "0 2007-01-04  29.809999  12.237143  21.170000   98.309998 -0.001676  0.021953   \n",
       "1 2007-01-05  29.639999  12.150000  21.100000   97.419998 -0.005719 -0.007147   \n",
       "2 2007-01-08  29.930000  12.210000  21.010000   98.900002  0.009737  0.004926   \n",
       "3 2007-01-09  29.959999  13.224286  21.030001  100.070000  0.001002  0.079800   \n",
       "4 2007-01-10  29.660000  13.857142  21.520000   98.889999 -0.010064  0.046746   \n",
       "\n",
       "    INTC_lr    IBM_lr  \n",
       "0  0.039504  0.010635  \n",
       "1 -0.003312 -0.009094  \n",
       "2 -0.004275  0.015078  \n",
       "3  0.000952  0.011761  \n",
       "4  0.023033 -0.011862  "
      ]
     },
     "execution_count": 4,
     "metadata": {},
     "output_type": "execute_result"
    }
   ],
   "source": [
    "FinData.head()"
   ]
  },
  {
   "cell_type": "code",
   "execution_count": 5,
   "metadata": {},
   "outputs": [
    {
     "data": {
      "text/plain": [
       "0    0.021953\n",
       "1   -0.007147\n",
       "2    0.004926\n",
       "3    0.079800\n",
       "4    0.046746\n",
       "5   -0.012448\n",
       "6   -0.012394\n",
       "7    0.025872\n",
       "8   -0.022391\n",
       "9   -0.063928\n",
       "Name: APPL_lr, dtype: float64"
      ]
     },
     "execution_count": 5,
     "metadata": {},
     "output_type": "execute_result"
    }
   ],
   "source": [
    "appl = FinData['APPL_lr']\n",
    "appl[:10]"
   ]
  },
  {
   "cell_type": "code",
   "execution_count": 49,
   "metadata": {},
   "outputs": [],
   "source": [
    "#plt.rcParams['figure.figsize'] = [15, 10]\n",
    "#ax = FinData.hist(column='APPL_lr', bins=64, density=True)\n",
    "#FinData['APPL_lr'].plot(kind='kde', ax=ax)"
   ]
  },
  {
   "cell_type": "code",
   "execution_count": 47,
   "metadata": {},
   "outputs": [
    {
     "data": {
      "text/plain": [
       "<matplotlib.axes._subplots.AxesSubplot at 0x17765470>"
      ]
     },
     "execution_count": 47,
     "metadata": {},
     "output_type": "execute_result"
    },
    {
     "data": {
      "image/png": "[encoded data removed]",
      "text/plain": [
       "<Figure size 1080x720 with 1 Axes>"
      ]
     },
     "metadata": {
      "needs_background": "light"
     },
     "output_type": "display_data"
    }
   ],
   "source": [
    "plt.rcParams['figure.figsize'] = [15, 10]\n",
    "\n",
    "ax = FinData['APPL_lr'].plot(kind='hist', bins=64, density=True)\n",
    "FinData['APPL_lr'].plot(kind='kde', ax=ax)\n",
    "\n"
   ]
  },
  {
   "cell_type": "code",
   "execution_count": 15,
   "metadata": {},
   "outputs": [
    {
     "data": {
      "text/html": [
       "<div>\n",
       "<style scoped>\n",
       "    .dataframe tbody tr th:only-of-type {\n",
       "        vertical-align: middle;\n",
       "    }\n",
       "\n",
       "    .dataframe tbody tr th {\n",
       "        vertical-align: top;\n",
       "    }\n",
       "\n",
       "    .dataframe thead th {\n",
       "        text-align: right;\n",
       "    }\n",
       "</style>\n",
       "<table border=\"1\" class=\"dataframe\">\n",
       "  <thead>\n",
       "    <tr style=\"text-align: right;\">\n",
       "      <th></th>\n",
       "      <th>Date</th>\n",
       "      <th>MSFT</th>\n",
       "      <th>APPL</th>\n",
       "      <th>INTC</th>\n",
       "      <th>IBM</th>\n",
       "      <th>MSFT_lr</th>\n",
       "      <th>APPL_lr</th>\n",
       "      <th>INTC_lr</th>\n",
       "      <th>IBM_lr</th>\n",
       "    </tr>\n",
       "  </thead>\n",
       "  <tbody>\n",
       "    <tr>\n",
       "      <th>0</th>\n",
       "      <td>2007-01-04</td>\n",
       "      <td>29.809999</td>\n",
       "      <td>12.237143</td>\n",
       "      <td>21.170000</td>\n",
       "      <td>98.309998</td>\n",
       "      <td>-0.001676</td>\n",
       "      <td>0.021953</td>\n",
       "      <td>0.039504</td>\n",
       "      <td>0.010635</td>\n",
       "    </tr>\n",
       "    <tr>\n",
       "      <th>1</th>\n",
       "      <td>2007-01-05</td>\n",
       "      <td>29.639999</td>\n",
       "      <td>12.150000</td>\n",
       "      <td>21.100000</td>\n",
       "      <td>97.419998</td>\n",
       "      <td>-0.005719</td>\n",
       "      <td>-0.007147</td>\n",
       "      <td>-0.003312</td>\n",
       "      <td>-0.009094</td>\n",
       "    </tr>\n",
       "    <tr>\n",
       "      <th>2</th>\n",
       "      <td>2007-01-08</td>\n",
       "      <td>29.930000</td>\n",
       "      <td>12.210000</td>\n",
       "      <td>21.010000</td>\n",
       "      <td>98.900002</td>\n",
       "      <td>0.009737</td>\n",
       "      <td>0.004926</td>\n",
       "      <td>-0.004275</td>\n",
       "      <td>0.015078</td>\n",
       "    </tr>\n",
       "    <tr>\n",
       "      <th>3</th>\n",
       "      <td>2007-01-09</td>\n",
       "      <td>29.959999</td>\n",
       "      <td>13.224286</td>\n",
       "      <td>21.030001</td>\n",
       "      <td>100.070000</td>\n",
       "      <td>0.001002</td>\n",
       "      <td>0.079800</td>\n",
       "      <td>0.000952</td>\n",
       "      <td>0.011761</td>\n",
       "    </tr>\n",
       "    <tr>\n",
       "      <th>4</th>\n",
       "      <td>2007-01-10</td>\n",
       "      <td>29.660000</td>\n",
       "      <td>13.857142</td>\n",
       "      <td>21.520000</td>\n",
       "      <td>98.889999</td>\n",
       "      <td>-0.010064</td>\n",
       "      <td>0.046746</td>\n",
       "      <td>0.023033</td>\n",
       "      <td>-0.011862</td>\n",
       "    </tr>\n",
       "  </tbody>\n",
       "</table>\n",
       "</div>"
      ],
      "text/plain": [
       "        Date       MSFT       APPL       INTC         IBM   MSFT_lr   APPL_lr  \\\n",
       "0 2007-01-04  29.809999  12.237143  21.170000   98.309998 -0.001676  0.021953   \n",
       "1 2007-01-05  29.639999  12.150000  21.100000   97.419998 -0.005719 -0.007147   \n",
       "2 2007-01-08  29.930000  12.210000  21.010000   98.900002  0.009737  0.004926   \n",
       "3 2007-01-09  29.959999  13.224286  21.030001  100.070000  0.001002  0.079800   \n",
       "4 2007-01-10  29.660000  13.857142  21.520000   98.889999 -0.010064  0.046746   \n",
       "\n",
       "    INTC_lr    IBM_lr  \n",
       "0  0.039504  0.010635  \n",
       "1 -0.003312 -0.009094  \n",
       "2 -0.004275  0.015078  \n",
       "3  0.000952  0.011761  \n",
       "4  0.023033 -0.011862  "
      ]
     },
     "execution_count": 15,
     "metadata": {},
     "output_type": "execute_result"
    }
   ],
   "source": [
    "FinData.dropna().head()"
   ]
  }
 ],
 "metadata": {
  "kernelspec": {
   "display_name": "condav",
   "language": "python",
   "name": "condav"
  },
  "language_info": {
   "codemirror_mode": {
    "name": "ipython",
    "version": 3
   },
   "file_extension": ".py",
   "mimetype": "text/x-python",
   "name": "python",
   "nbconvert_exporter": "python",
   "pygments_lexer": "ipython3",
   "version": "3.6.1"
  }
 },
 "nbformat": 4,
 "nbformat_minor": 2
}
